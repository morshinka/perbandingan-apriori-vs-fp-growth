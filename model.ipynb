{
 "cells": [
  {
   "cell_type": "markdown",
   "metadata": {},
   "source": [
    "import data"
   ]
  },
  {
   "cell_type": "code",
   "execution_count": 420,
   "metadata": {},
   "outputs": [],
   "source": [
    "import pandas as pd    \n",
    "import numpy as np"
   ]
  },
  {
   "cell_type": "code",
   "execution_count": 421,
   "metadata": {},
   "outputs": [],
   "source": [
    "df = pd.read_excel('dataset_penjualan.xlsx')"
   ]
  },
  {
   "cell_type": "code",
   "execution_count": 422,
   "metadata": {},
   "outputs": [
    {
     "data": {
      "text/html": [
       "<div>\n",
       "<style scoped>\n",
       "    .dataframe tbody tr th:only-of-type {\n",
       "        vertical-align: middle;\n",
       "    }\n",
       "\n",
       "    .dataframe tbody tr th {\n",
       "        vertical-align: top;\n",
       "    }\n",
       "\n",
       "    .dataframe thead th {\n",
       "        text-align: right;\n",
       "    }\n",
       "</style>\n",
       "<table border=\"1\" class=\"dataframe\">\n",
       "  <thead>\n",
       "    <tr style=\"text-align: right;\">\n",
       "      <th></th>\n",
       "      <th>ID transaksi</th>\n",
       "      <th>beras</th>\n",
       "      <th>telur</th>\n",
       "      <th>tepung</th>\n",
       "      <th>migor</th>\n",
       "      <th>gula</th>\n",
       "    </tr>\n",
       "  </thead>\n",
       "  <tbody>\n",
       "    <tr>\n",
       "      <th>0</th>\n",
       "      <td>T1</td>\n",
       "      <td>1</td>\n",
       "      <td>1</td>\n",
       "      <td>0</td>\n",
       "      <td>0</td>\n",
       "      <td>0</td>\n",
       "    </tr>\n",
       "    <tr>\n",
       "      <th>1</th>\n",
       "      <td>T2</td>\n",
       "      <td>1</td>\n",
       "      <td>0</td>\n",
       "      <td>1</td>\n",
       "      <td>1</td>\n",
       "      <td>0</td>\n",
       "    </tr>\n",
       "    <tr>\n",
       "      <th>2</th>\n",
       "      <td>T3</td>\n",
       "      <td>1</td>\n",
       "      <td>1</td>\n",
       "      <td>0</td>\n",
       "      <td>0</td>\n",
       "      <td>1</td>\n",
       "    </tr>\n",
       "    <tr>\n",
       "      <th>3</th>\n",
       "      <td>T4</td>\n",
       "      <td>1</td>\n",
       "      <td>1</td>\n",
       "      <td>0</td>\n",
       "      <td>1</td>\n",
       "      <td>0</td>\n",
       "    </tr>\n",
       "    <tr>\n",
       "      <th>4</th>\n",
       "      <td>T5</td>\n",
       "      <td>1</td>\n",
       "      <td>1</td>\n",
       "      <td>0</td>\n",
       "      <td>0</td>\n",
       "      <td>0</td>\n",
       "    </tr>\n",
       "  </tbody>\n",
       "</table>\n",
       "</div>"
      ],
      "text/plain": [
       "  ID transaksi  beras  telur  tepung  migor  gula\n",
       "0           T1      1      1       0      0     0\n",
       "1           T2      1      0       1      1     0\n",
       "2           T3      1      1       0      0     1\n",
       "3           T4      1      1       0      1     0\n",
       "4           T5      1      1       0      0     0"
      ]
     },
     "execution_count": 422,
     "metadata": {},
     "output_type": "execute_result"
    }
   ],
   "source": [
    "df.head()"
   ]
  },
  {
   "cell_type": "code",
   "execution_count": 423,
   "metadata": {},
   "outputs": [
    {
     "name": "stdout",
     "output_type": "stream",
     "text": [
      "dataframe setelah di drop\n",
      "   beras  telur  tepung  migor  gula\n",
      "0      1      1       0      0     0\n",
      "1      1      0       1      1     0\n",
      "2      1      1       0      0     1\n",
      "3      1      1       0      1     0\n",
      "4      1      1       0      0     0\n"
     ]
    }
   ],
   "source": [
    "columns_to_drop = ['ID transaksi']\n",
    "df = df.drop(columns=columns_to_drop)\n",
    "print(\"dataframe setelah di drop\")\n",
    "print(df.head())"
   ]
  },
  {
   "cell_type": "code",
   "execution_count": 424,
   "metadata": {},
   "outputs": [
    {
     "name": "stdout",
     "output_type": "stream",
     "text": [
      "beras     0\n",
      "telur     0\n",
      "tepung    0\n",
      "migor     0\n",
      "gula      0\n",
      "dtype: int64\n",
      "Tidak Ada Missing Value\n"
     ]
    }
   ],
   "source": [
    "missing_value = df.isnull().sum()\n",
    "print(missing_value)\n",
    "\n",
    "if missing_value.sum() > 0:\n",
    "    print(\"Ada Missing Value\")\n",
    "else:\n",
    "    print(\"Tidak Ada Missing Value\")"
   ]
  },
  {
   "cell_type": "code",
   "execution_count": 425,
   "metadata": {},
   "outputs": [],
   "source": [
    "from sklearn.preprocessing import minmax_scale, StandardScaler\n",
    "scaler = StandardScaler()\n"
   ]
  },
  {
   "cell_type": "markdown",
   "metadata": {},
   "source": [
    "Normalisasi Data"
   ]
  },
  {
   "cell_type": "code",
   "execution_count": 426,
   "metadata": {},
   "outputs": [
    {
     "name": "stdout",
     "output_type": "stream",
     "text": [
      "data setelah di normalisasi\n",
      "   beras  telur  tepung  migor  gula\n",
      "0    1.0    1.0     0.0    0.0   0.0\n",
      "1    1.0    0.0     1.0    1.0   0.0\n",
      "2    1.0    1.0     0.0    0.0   1.0\n",
      "3    1.0    1.0     0.0    1.0   0.0\n",
      "4    1.0    1.0     0.0    0.0   0.0\n"
     ]
    }
   ],
   "source": [
    "from sklearn.preprocessing import MinMaxScaler, LabelEncoder\n",
    "scaler = MinMaxScaler()\n",
    "numerical_columns = df.select_dtypes(include=['int64', 'float64']).columns\n",
    "\n",
    "df[numerical_columns] = scaler.fit_transform(df[numerical_columns])\n",
    "\n",
    "print(\"data setelah di normalisasi\")\n",
    "print(df.head())\n"
   ]
  },
  {
   "cell_type": "markdown",
   "metadata": {},
   "source": [
    "find optimal support with elbow"
   ]
  },
  {
   "cell_type": "code",
   "execution_count": 427,
   "metadata": {},
   "outputs": [
    {
     "data": {
      "image/png": "[encoded data removed]",
      "text/plain": [
       "<Figure size 640x480 with 1 Axes>"
      ]
     },
     "metadata": {},
     "output_type": "display_data"
    }
   ],
   "source": [
    "import matplotlib.pyplot as plt\n",
    "from mlxtend.frequent_patterns import apriori\n",
    "\n",
    "support_values = [x * 0.1 for x in range(1, 11)]  # Nilai support dari 0.1 hingga 1.0\n",
    "itemsets_count = []  # List untuk menyimpan jumlah itemsets\n",
    "\n",
    "# Melakukan percobaan untuk setiap nilai support\n",
    "for support in support_values:\n",
    "    # Mencari frequent itemsets\n",
    "    frequent_itemsets = apriori(df, min_support=support, use_colnames=True)\n",
    "    \n",
    "    # Menyimpan jumlah itemsets untuk nilai support saat ini\n",
    "    itemsets_count.append(len(frequent_itemsets))\n",
    "\n",
    "# Plot Elbow Curve\n",
    "plt.plot(support_values, itemsets_count, marker='o')\n",
    "plt.title('Elbow Method for Optimal min_support')\n",
    "plt.xlabel('min_support')\n",
    "plt.ylabel('Number of Frequent Itemsets')\n",
    "plt.grid(True)\n",
    "plt.show()"
   ]
  },
  {
   "cell_type": "markdown",
   "metadata": {},
   "source": [
    "find value optmimal confident"
   ]
  },
  {
   "cell_type": "code",
   "execution_count": 428,
   "metadata": {},
   "outputs": [
    {
     "data": {
      "image/png": "[encoded data removed]",
      "text/plain": [
       "<Figure size 640x480 with 1 Axes>"
      ]
     },
     "metadata": {},
     "output_type": "display_data"
    }
   ],
   "source": [
    "from mlxtend.frequent_patterns import association_rules\n",
    "\n",
    "min_support_value = 0.2\n",
    "frequent_itemsets = apriori(df, min_support=min_support_value, use_colnames=True)\n",
    "\n",
    "# Daftar nilai confidence yang akan dicoba\n",
    "confidence_values = [x * 0.05 for x in range(10, 21)]  # Nilai confidence dari 0.5 hingga 1.0\n",
    "rules_count = []  # List untuk menyimpan jumlah aturan asosiasi\n",
    "\n",
    "# Melakukan percobaan untuk setiap nilai confidence\n",
    "for confidence in confidence_values:\n",
    "    # Menghitung association rules untuk setiap nilai confidence\n",
    "    rules = association_rules(frequent_itemsets, metric=\"confidence\", min_threshold=confidence)\n",
    "    \n",
    "    # Menyimpan jumlah aturan asosiasi untuk nilai confidence saat ini\n",
    "    rules_count.append(len(rules))\n",
    "\n",
    "# Plot Elbow Curve untuk Confidence\n",
    "plt.plot(confidence_values, rules_count, marker='o')\n",
    "plt.title('Elbow Method for Optimal Confidence')\n",
    "plt.xlabel('Confidence')\n",
    "plt.ylabel('Number of Association Rules')\n",
    "plt.grid(True)\n",
    "plt.show()"
   ]
  },
  {
   "cell_type": "code",
   "execution_count": 429,
   "metadata": {},
   "outputs": [
    {
     "name": "stdout",
     "output_type": "stream",
     "text": [
      "frequent itemset apriori\n",
      "     support                itemsets\n",
      "0   0.740000                 (beras)\n",
      "1   0.580000                 (telur)\n",
      "2   0.466667                (tepung)\n",
      "3   0.546667                 (migor)\n",
      "4   0.566667                  (gula)\n",
      "5   0.446667          (beras, telur)\n",
      "6   0.326667         (beras, tepung)\n",
      "7   0.366667          (migor, beras)\n",
      "8   0.393333           (beras, gula)\n",
      "9   0.213333         (telur, tepung)\n",
      "10  0.306667          (migor, telur)\n",
      "11  0.306667           (telur, gula)\n",
      "12  0.333333         (migor, tepung)\n",
      "13  0.240000          (gula, tepung)\n",
      "14  0.266667           (migor, gula)\n",
      "15  0.226667   (migor, beras, telur)\n",
      "16  0.220000    (beras, telur, gula)\n",
      "17  0.220000  (migor, beras, tepung)\n",
      "\n",
      "Aturan asosiasi apriori\n",
      "      antecedents consequents  antecedent support  consequent support  \\\n",
      "0         (telur)     (beras)            0.580000            0.740000   \n",
      "1        (tepung)     (beras)            0.466667            0.740000   \n",
      "2        (tepung)     (migor)            0.466667            0.546667   \n",
      "3  (migor, telur)     (beras)            0.306667            0.740000   \n",
      "4   (telur, gula)     (beras)            0.306667            0.740000   \n",
      "\n",
      "    support  confidence      lift  leverage  conviction  zhangs_metric  \n",
      "0  0.446667    0.770115  1.040696  0.017467    1.131000       0.093106  \n",
      "1  0.326667    0.700000  0.945946 -0.018667    0.866667      -0.096774  \n",
      "2  0.333333    0.714286  1.306620  0.078222    1.586667       0.440000  \n",
      "3  0.226667    0.739130  0.998825 -0.000267    0.996667      -0.001694  \n",
      "4  0.220000    0.717391  0.969448 -0.006933    0.920000      -0.043478  \n"
     ]
    }
   ],
   "source": [
    "from mlxtend.frequent_patterns import apriori, association_rules\n",
    "\n",
    "frequent_itemset_apriori = apriori(df, min_support=0.2, use_colnames=True)\n",
    "\n",
    "rules_apriori = association_rules(frequent_itemset_apriori, metric=\"confidence\", min_threshold=0.7)\n",
    "print(\"frequent itemset apriori\")\n",
    "print(frequent_itemset_apriori)\n",
    "print(\"\\nAturan asosiasi apriori\")\n",
    "print(rules_apriori)"
   ]
  },
  {
   "cell_type": "code",
   "execution_count": 430,
   "metadata": {},
   "outputs": [
    {
     "name": "stdout",
     "output_type": "stream",
     "text": [
      "frequents itemset fpgrowth\n",
      "     support                itemsets\n",
      "0   0.740000                 (beras)\n",
      "1   0.580000                 (telur)\n",
      "2   0.546667                 (migor)\n",
      "3   0.466667                (tepung)\n",
      "4   0.566667                  (gula)\n",
      "5   0.446667          (beras, telur)\n",
      "6   0.366667          (migor, beras)\n",
      "7   0.306667          (migor, telur)\n",
      "8   0.266667           (migor, gula)\n",
      "9   0.226667   (migor, beras, telur)\n",
      "10  0.333333         (migor, tepung)\n",
      "11  0.326667         (beras, tepung)\n",
      "12  0.213333         (telur, tepung)\n",
      "13  0.240000          (gula, tepung)\n",
      "14  0.220000  (migor, beras, tepung)\n",
      "15  0.393333           (beras, gula)\n",
      "16  0.306667           (telur, gula)\n",
      "17  0.220000    (beras, telur, gula)\n",
      "\n",
      "Aturan asosiasi fpgrowth\n",
      "      antecedents consequents  antecedent support  consequent support  \\\n",
      "0         (telur)     (beras)            0.580000            0.740000   \n",
      "1  (migor, telur)     (beras)            0.306667            0.740000   \n",
      "2        (tepung)     (migor)            0.466667            0.546667   \n",
      "3        (tepung)     (beras)            0.466667            0.740000   \n",
      "4   (telur, gula)     (beras)            0.306667            0.740000   \n",
      "\n",
      "    support  confidence      lift  leverage  conviction  zhangs_metric  \n",
      "0  0.446667    0.770115  1.040696  0.017467    1.131000       0.093106  \n",
      "1  0.226667    0.739130  0.998825 -0.000267    0.996667      -0.001694  \n",
      "2  0.333333    0.714286  1.306620  0.078222    1.586667       0.440000  \n",
      "3  0.326667    0.700000  0.945946 -0.018667    0.866667      -0.096774  \n",
      "4  0.220000    0.717391  0.969448 -0.006933    0.920000      -0.043478  \n"
     ]
    }
   ],
   "source": [
    "from mlxtend.frequent_patterns import fpgrowth, association_rules\n",
    "\n",
    "frequent_itemsets_fpgrowth = fpgrowth(df, min_support=0.2, use_colnames=True)\n",
    "rules_fpgrowth = association_rules(frequent_itemsets_fpgrowth, metric=\"confidence\", min_threshold=0.7)\n",
    "\n",
    "print(\"frequents itemset fpgrowth\")\n",
    "print(frequent_itemsets_fpgrowth)\n",
    "print(\"\\nAturan asosiasi fpgrowth\")\n",
    "print(rules_fpgrowth)"
   ]
  },
  {
   "cell_type": "code",
   "execution_count": 431,
   "metadata": {},
   "outputs": [
    {
     "name": "stdout",
     "output_type": "stream",
     "text": [
      "apriori time : 0.0060100555419921875 seccond\n",
      "fpgrowth time : 0.0032300949096679688 seccond\n"
     ]
    }
   ],
   "source": [
    "import time \n",
    "start = time.time()\n",
    "frequent_itemset_apriori = apriori(df, min_support=0.2, use_colnames=True)\n",
    "apriori_time = time.time() - start\n",
    "\n",
    "start = time.time()\n",
    "frequent_itemsets_fpgrowth = fpgrowth(df, min_support=0.2, use_colnames=True)\n",
    "fpgrowth_time = time.time() - start\n",
    "\n",
    "print(f\"apriori time : {apriori_time} seccond\")\n",
    "print(f\"fpgrowth time : {fpgrowth_time} seccond\")"
   ]
  },
  {
   "cell_type": "code",
   "execution_count": 432,
   "metadata": {},
   "outputs": [
    {
     "name": "stdout",
     "output_type": "stream",
     "text": [
      "apriori rules count : 5\n",
      "fpgrowth rules count : 5\n"
     ]
    }
   ],
   "source": [
    "rules_apriori = association_rules(frequent_itemset_apriori, metric=\"confidence\", min_threshold=0.7)\n",
    "apriori_rules_count = len(rules_apriori)\n",
    "\n",
    "rules_fpgrowth = association_rules(frequent_itemsets_fpgrowth, metric=\"confidence\", min_threshold=0.7)\n",
    "fpgrowth_rules_count = len(rules_fpgrowth)\n",
    "\n",
    "print(f\"apriori rules count : {apriori_rules_count}\")\n",
    "print(f\"fpgrowth rules count : {fpgrowth_rules_count}\")"
   ]
  },
  {
   "cell_type": "code",
   "execution_count": 433,
   "metadata": {},
   "outputs": [
    {
     "name": "stdout",
     "output_type": "stream",
     "text": [
      "apriori quality :     support  confidence      lift\n",
      "0  0.446667    0.770115  1.040696\n",
      "1  0.326667    0.700000  0.945946\n",
      "2  0.333333    0.714286  1.306620\n",
      "3  0.226667    0.739130  0.998825\n",
      "4  0.220000    0.717391  0.969448\n",
      "fpgrowth quality :     support  confidence      lift\n",
      "0  0.446667    0.770115  1.040696\n",
      "1  0.226667    0.739130  0.998825\n",
      "2  0.333333    0.714286  1.306620\n",
      "3  0.326667    0.700000  0.945946\n",
      "4  0.220000    0.717391  0.969448\n"
     ]
    }
   ],
   "source": [
    "apriori_quality = rules_apriori[['support', 'confidence', 'lift']]\n",
    "fpgrowth_quality = rules_fpgrowth[['support', 'confidence', 'lift']]\n",
    "\n",
    "print(f\"apriori quality : {apriori_quality}\")\n",
    "print(f\"fpgrowth quality : {fpgrowth_quality}\")"
   ]
  }
 ],
 "metadata": {
  "kernelspec": {
   "display_name": "Python 3",
   "language": "python",
   "name": "python3"
  },
  "language_info": {
   "codemirror_mode": {
    "name": "ipython",
    "version": 3
   },
   "file_extension": ".py",
   "mimetype": "text/x-python",
   "name": "python",
   "nbconvert_exporter": "python",
   "pygments_lexer": "ipython3",
   "version": "3.12.0"
  }
 },
 "nbformat": 4,
 "nbformat_minor": 2
}
